{
 "cells": [
  {
   "cell_type": "markdown",
   "metadata": {},
   "source": [
    "# Demand Feature Pipeline Notebook\n",
    "\n",
    "This notebook processes demand data and uploads it to the Hopsworks feature store. It replicates the functionality of the feature_pipeline.py script in an interactive format."
   ]
  },
  {
   "cell_type": "code",
   "execution_count": 1,
   "metadata": {},
   "outputs": [],
   "source": [
    "# Import necessary libraries\n",
    "import pandas as pd\n",
    "import hopsworks\n",
    "import os\n",
    "from datetime import datetime\n",
    "from dotenv import load_dotenv"
   ]
  },
  {
   "cell_type": "markdown",
   "metadata": {},
   "source": [
    "## Load Environment Variables\n",
    "\n",
    "We'll load environment variables for Hopsworks connection credentials."
   ]
  },
  {
   "cell_type": "code",
   "execution_count": 2,
   "metadata": {},
   "outputs": [],
   "source": [
    "# Load environment variables\n",
    "load_dotenv()\n",
    "\n",
    "# Configure parameters (these can be modified as needed)\n",
    "project_name = 'many_models'\n",
    "feature_group_name = 'demand_features'\n",
    "version = 1"
   ]
  },
  {
   "cell_type": "markdown",
   "metadata": {},
   "source": [
    "## Connect to Hopsworks Feature Store\n",
    "\n",
    "Establish connection to the Hopsworks Feature Store using credentials from environment variables."
   ]
  },
  {
   "cell_type": "code",
   "execution_count": 3,
   "metadata": {},
   "outputs": [
    {
     "name": "stdout",
     "output_type": "stream",
     "text": [
      "Connecting to Hopsworks Feature Store\n",
      "2025-05-09 10:14:21,166 INFO: Initializing external client\n",
      "2025-05-09 10:14:21,166 INFO: Base URL: https://10.87.43.175:28181\n",
      "2025-05-09 10:14:22,897 INFO: Python Engine initialized.\n",
      "\n",
      "Logged in to project, explore it here https://10.87.43.175:28181/p/123\n",
      "Connected to feature store in project: many_models\n"
     ]
    }
   ],
   "source": [
    "print(\"Connecting to Hopsworks Feature Store\")\n",
    "\n",
    "# Connect to Hopsworks\n",
    "project = hopsworks.login(\n",
    "    project=\"test2\"\n",
    ")\n",
    "\n",
    "fs = project.get_feature_store()\n",
    "print(f\"Connected to feature store in project: {project_name}\")"
   ]
  },
  {
   "cell_type": "markdown",
   "metadata": {},
   "source": [
    "## Load Source Data\n",
    "\n",
    "Load the demand data from CSV file and prepare it for the feature store."
   ]
  },
  {
   "cell_type": "code",
   "execution_count": 4,
   "metadata": {},
   "outputs": [
    {
     "name": "stdout",
     "output_type": "stream",
     "text": [
      "Loading source data\n"
     ]
    },
    {
     "data": {
      "text/html": [
       "<div>\n",
       "<style scoped>\n",
       "    .dataframe tbody tr th:only-of-type {\n",
       "        vertical-align: middle;\n",
       "    }\n",
       "\n",
       "    .dataframe tbody tr th {\n",
       "        vertical-align: top;\n",
       "    }\n",
       "\n",
       "    .dataframe thead th {\n",
       "        text-align: right;\n",
       "    }\n",
       "</style>\n",
       "<table border=\"1\" class=\"dataframe\">\n",
       "  <thead>\n",
       "    <tr style=\"text-align: right;\">\n",
       "      <th></th>\n",
       "      <th>sp_id</th>\n",
       "      <th>loc_id</th>\n",
       "      <th>time_bucket</th>\n",
       "      <th>repetitive_demand_quantity</th>\n",
       "    </tr>\n",
       "  </thead>\n",
       "  <tbody>\n",
       "    <tr>\n",
       "      <th>0</th>\n",
       "      <td>9684698</td>\n",
       "      <td>3</td>\n",
       "      <td>202104</td>\n",
       "      <td>55.0</td>\n",
       "    </tr>\n",
       "    <tr>\n",
       "      <th>1</th>\n",
       "      <td>9684698</td>\n",
       "      <td>3</td>\n",
       "      <td>202105</td>\n",
       "      <td>117.0</td>\n",
       "    </tr>\n",
       "    <tr>\n",
       "      <th>2</th>\n",
       "      <td>9684698</td>\n",
       "      <td>3</td>\n",
       "      <td>202106</td>\n",
       "      <td>62.0</td>\n",
       "    </tr>\n",
       "    <tr>\n",
       "      <th>3</th>\n",
       "      <td>9684698</td>\n",
       "      <td>3</td>\n",
       "      <td>202107</td>\n",
       "      <td>45.0</td>\n",
       "    </tr>\n",
       "    <tr>\n",
       "      <th>4</th>\n",
       "      <td>9684698</td>\n",
       "      <td>3</td>\n",
       "      <td>202108</td>\n",
       "      <td>77.0</td>\n",
       "    </tr>\n",
       "  </tbody>\n",
       "</table>\n",
       "</div>"
      ],
      "text/plain": [
       "     sp_id  loc_id  time_bucket  repetitive_demand_quantity\n",
       "0  9684698       3       202104                        55.0\n",
       "1  9684698       3       202105                       117.0\n",
       "2  9684698       3       202106                        62.0\n",
       "3  9684698       3       202107                        45.0\n",
       "4  9684698       3       202108                        77.0"
      ]
     },
     "metadata": {},
     "output_type": "display_data"
    }
   ],
   "source": [
    "print(\"Loading source data\")\n",
    "demand_df = pd.read_csv('../data/demand_qty_item_loc.csv')\n",
    "\n",
    "# Display first few rows to inspect the data\n",
    "display(demand_df.head())"
   ]
  },
  {
   "cell_type": "code",
   "execution_count": 5,
   "metadata": {},
   "outputs": [
    {
     "data": {
      "text/html": [
       "<div>\n",
       "<style scoped>\n",
       "    .dataframe tbody tr th:only-of-type {\n",
       "        vertical-align: middle;\n",
       "    }\n",
       "\n",
       "    .dataframe tbody tr th {\n",
       "        vertical-align: top;\n",
       "    }\n",
       "\n",
       "    .dataframe thead th {\n",
       "        text-align: right;\n",
       "    }\n",
       "</style>\n",
       "<table border=\"1\" class=\"dataframe\">\n",
       "  <thead>\n",
       "    <tr style=\"text-align: right;\">\n",
       "      <th></th>\n",
       "      <th>sp_id</th>\n",
       "      <th>loc_id</th>\n",
       "      <th>time_bucket</th>\n",
       "      <th>repetitive_demand_quantity</th>\n",
       "      <th>datetime</th>\n",
       "    </tr>\n",
       "  </thead>\n",
       "  <tbody>\n",
       "    <tr>\n",
       "      <th>0</th>\n",
       "      <td>9684698</td>\n",
       "      <td>3</td>\n",
       "      <td>202104</td>\n",
       "      <td>55.0</td>\n",
       "      <td>2025-05-09 10:14:27.519113</td>\n",
       "    </tr>\n",
       "    <tr>\n",
       "      <th>1</th>\n",
       "      <td>9684698</td>\n",
       "      <td>3</td>\n",
       "      <td>202105</td>\n",
       "      <td>117.0</td>\n",
       "      <td>2025-05-09 10:14:27.519113</td>\n",
       "    </tr>\n",
       "    <tr>\n",
       "      <th>2</th>\n",
       "      <td>9684698</td>\n",
       "      <td>3</td>\n",
       "      <td>202106</td>\n",
       "      <td>62.0</td>\n",
       "      <td>2025-05-09 10:14:27.519113</td>\n",
       "    </tr>\n",
       "    <tr>\n",
       "      <th>3</th>\n",
       "      <td>9684698</td>\n",
       "      <td>3</td>\n",
       "      <td>202107</td>\n",
       "      <td>45.0</td>\n",
       "      <td>2025-05-09 10:14:27.519113</td>\n",
       "    </tr>\n",
       "    <tr>\n",
       "      <th>4</th>\n",
       "      <td>9684698</td>\n",
       "      <td>3</td>\n",
       "      <td>202108</td>\n",
       "      <td>77.0</td>\n",
       "      <td>2025-05-09 10:14:27.519113</td>\n",
       "    </tr>\n",
       "  </tbody>\n",
       "</table>\n",
       "</div>"
      ],
      "text/plain": [
       "     sp_id  loc_id  time_bucket  repetitive_demand_quantity  \\\n",
       "0  9684698       3       202104                        55.0   \n",
       "1  9684698       3       202105                       117.0   \n",
       "2  9684698       3       202106                        62.0   \n",
       "3  9684698       3       202107                        45.0   \n",
       "4  9684698       3       202108                        77.0   \n",
       "\n",
       "                    datetime  \n",
       "0 2025-05-09 10:14:27.519113  \n",
       "1 2025-05-09 10:14:27.519113  \n",
       "2 2025-05-09 10:14:27.519113  \n",
       "3 2025-05-09 10:14:27.519113  \n",
       "4 2025-05-09 10:14:27.519113  "
      ]
     },
     "metadata": {},
     "output_type": "display_data"
    }
   ],
   "source": [
    "\n",
    "# Add datetime column for feature store\n",
    "demand_df['datetime'] = datetime.now()\n",
    "\n",
    "# Display the transformed dataframe\n",
    "display(demand_df.head())"
   ]
  },
  {
   "cell_type": "markdown",
   "metadata": {},
   "source": [
    "## Create Feature Group and Upload Data\n",
    "\n",
    "Define the feature group schema and upload the prepared data to the feature store."
   ]
  },
  {
   "cell_type": "code",
   "execution_count": 6,
   "metadata": {},
   "outputs": [
    {
     "name": "stdout",
     "output_type": "stream",
     "text": [
      "⬆ Creating/getting feature group\n"
     ]
    }
   ],
   "source": [
    "print(\"⬆ Creating/getting feature group\")\n",
    "# Define the feature group\n",
    "demand_fg = fs.get_or_create_feature_group(\n",
    "    name=feature_group_name,\n",
    "    version=version,\n",
    "    description=\"Item demand by location and time\",\n",
    "    primary_key=['sp_id', 'loc_id', 'time_bucket'],\n",
    "    event_time='datetime',\n",
    ")"
   ]
  },
  {
   "cell_type": "code",
   "execution_count": 7,
   "metadata": {},
   "outputs": [
    {
     "name": "stdout",
     "output_type": "stream",
     "text": [
      "⬆ Uploading data to the Feature Store\n",
      "Feature Group created successfully, explore it at \n",
      "https://10.87.43.175:28181/p/123/fs/71/fg/47\n"
     ]
    },
    {
     "name": "stderr",
     "output_type": "stream",
     "text": [
      "Uploading Dataframe: 100.00% |████████████████████████████████████████████████████████████████████████████████████████████████████████████| Rows 9600/9600 | Elapsed Time: 00:07 | Remaining Time: 00:00\n"
     ]
    },
    {
     "name": "stdout",
     "output_type": "stream",
     "text": [
      "Launching job: demand_features_1_offline_fg_materialization\n",
      "Job started successfully, you can follow the progress at \n",
      "https://10.87.43.175:28181/p/123/jobs/named/demand_features_1_offline_fg_materialization/executions\n",
      "2025-05-09 10:14:55,180 INFO: Waiting for execution to finish. Current state: SUBMITTED. Final status: UNDEFINED\n",
      "2025-05-09 10:14:58,413 INFO: Waiting for execution to finish. Current state: RUNNING. Final status: UNDEFINED\n",
      "2025-05-09 10:16:23,004 INFO: Waiting for execution to finish. Current state: SUCCEEDING. Final status: UNDEFINED\n",
      "2025-05-09 10:16:29,486 INFO: Waiting for execution to finish. Current state: FINISHED. Final status: SUCCEEDED\n",
      "2025-05-09 10:16:29,984 INFO: Waiting for log aggregation to finish.\n",
      "2025-05-09 10:16:29,986 INFO: Execution finished successfully.\n",
      "Feature pipeline completed successfully\n"
     ]
    }
   ],
   "source": [
    "print(\"⬆ Uploading data to the Feature Store\")\n",
    "# Upload data to the feature store\n",
    "demand_fg.insert(demand_df, write_options={\"wait_for_job\": True})\n",
    "print(\"Feature pipeline completed successfully\")"
   ]
  }
 ],
 "metadata": {
  "kernelspec": {
   "display_name": "Python 3 (ipykernel)",
   "language": "python",
   "name": "python3"
  },
  "language_info": {
   "codemirror_mode": {
    "name": "ipython",
    "version": 3
   },
   "file_extension": ".py",
   "mimetype": "text/x-python",
   "name": "python",
   "nbconvert_exporter": "python",
   "pygments_lexer": "ipython3",
   "version": "3.10.16"
  }
 },
 "nbformat": 4,
 "nbformat_minor": 4
}
